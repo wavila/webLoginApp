{
 "cells": [
  {
   "cell_type": "markdown",
   "metadata": {},
   "source": []
  },
  {
   "cell_type": "code",
   "execution_count": null,
   "metadata": {},
   "outputs": [],
   "source": [
    "from postgres import Postgres\n",
    "#substituir a string de param pela URI do heroku postgres\n",
    "db = Postgres(\"postgres://...\")\n",
    "\n",
    "db.run(\"CREATE TABLE login (usr text, pas text)\")\n",
    "\n",
    "db.run(\"INSERT INTO login VALUES ('rox',87)\")"
   ]
  }
 ],
 "metadata": {
  "language_info": {
   "name": "python"
  },
  "orig_nbformat": 4
 },
 "nbformat": 4,
 "nbformat_minor": 2
}
